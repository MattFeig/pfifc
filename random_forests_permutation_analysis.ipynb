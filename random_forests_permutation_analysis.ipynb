{
 "cells": [
  {
   "cell_type": "code",
   "execution_count": 1,
   "id": "03c1732e",
   "metadata": {},
   "outputs": [],
   "source": [
    "import pandas as pd\n",
    "import numpy as np\n",
    "import matplotlib.pyplot as plt\n",
    "from sklearn.preprocessing import StandardScaler\n",
    "from sklearn.model_selection import cross_val_score, LeaveOneOut\n",
    "from sklearn.ensemble import RandomForestClassifier\n",
    "from sklearn.metrics import classification_report\n",
    "import random\n",
    "\n",
    "from lib import make_corrfig, linearize, get_flat_inds_for_net, triangularizeweights\n",
    "from data_loader import data_loader\n",
    "import warnings\n",
    "warnings.simplefilter('ignore')"
   ]
  },
  {
   "cell_type": "code",
   "execution_count": 2,
   "id": "1a012dee",
   "metadata": {},
   "outputs": [],
   "source": [
    "# Load Demographic data and subject lists\n",
    "demo = pd.read_csv('data/demo.csv', names=['VC', 'Age', 'Group'])\n",
    "\n",
    "demo_ts = demo.where(demo.Group=='TS').dropna().reset_index(drop=True)\n",
    "demo_hc = demo.where(demo.Group=='TFC').dropna().reset_index(drop=True)\n",
    "\n",
    "# custom data loader reads in connectivity data for each group seperately\n",
    "ts_con = data_loader(demo_ts)\n",
    "hc_con = data_loader(demo_hc)\n",
    "\n",
    "# Connectivity matricies are symettric and square. We need just the flattened upper or lower triangle, of the matrix\n",
    "# to create a new design matrix\n",
    "\n",
    "ts_con_flat = linearize(ts_con)\n",
    "hc_con_flat = linearize(hc_con)\n",
    "\n",
    "\n",
    "# create feature matrix\n",
    "X = np.vstack((hc_con_flat, ts_con_flat))\n",
    "\n",
    "# create label vector: 1 for HC, -1 for TS\n",
    "y = np.concatenate((np.repeat(1,99), np.repeat(-1,99)))\n",
    "\n",
    "scaler = StandardScaler()\n",
    "X_scale = scaler.fit_transform(X)"
   ]
  },
  {
   "cell_type": "markdown",
   "id": "4ed2eb56",
   "metadata": {},
   "source": [
    "### Random Forests prototyping"
   ]
  },
  {
   "cell_type": "code",
   "execution_count": null,
   "id": "99132a44",
   "metadata": {},
   "outputs": [],
   "source": [
    "clf = RandomForestClassifier(n_estimators=500)\n",
    "clf.fit(X_scale,y)\n",
    "y_pred = clf.predict(X_scale)\n",
    "scores = (y_pred == y)\n",
    "print(f'Training Accuracy: {np.mean(scores)}')\n",
    "print(classification_report(y, y_pred))"
   ]
  },
  {
   "cell_type": "code",
   "execution_count": null,
   "id": "dc469eaf",
   "metadata": {},
   "outputs": [],
   "source": [
    "# Visualize feature importance values overlayed ontop of features / functional connectivity matrix\n",
    "make_corrfig(triangularizeweights(clf.feature_importances_), weights=True) "
   ]
  },
  {
   "cell_type": "markdown",
   "id": "47c266ed",
   "metadata": {},
   "source": [
    "The feature importance values are again spread across the brain / functional networks.\n",
    "\n",
    "Below, we investigate what the mean feature importance in each network is."
   ]
  },
  {
   "cell_type": "code",
   "execution_count": null,
   "id": "6066cf57",
   "metadata": {},
   "outputs": [],
   "source": [
    "netlist = ['Auditory','CingOperc','CingPar','Default','DorsalAtt','FrontoPar','None', 'RetroTemp','Salience','SMhand','SMmouth','VentralAtt','Visual','Subcort']   \n",
    "\n",
    "mean_importance = []\n",
    "net_size = []\n",
    "for net in netlist:\n",
    "    mean_importance.append(np.mean(clf.feature_importances_[get_flat_inds_for_net(net, within=True)]))\n",
    "    net_size.append(len(get_flat_inds_for_net(net, within=True)))\n"
   ]
  },
  {
   "cell_type": "code",
   "execution_count": null,
   "id": "492345d4",
   "metadata": {},
   "outputs": [],
   "source": [
    "plt.bar(range(len(netlist)), mean_importance, align='center')\n",
    "plt.xticks(range(len(netlist)), netlist, rotation=90)\n",
    "plt.ylabel(\"mean feature importance\")\n",
    "plt.xlabel('network name')\n",
    "plt.show()"
   ]
  },
  {
   "cell_type": "code",
   "execution_count": null,
   "id": "7a344e54",
   "metadata": {},
   "outputs": [],
   "source": [
    "# To do: Refactor below code and set up slurm script to run on HPC"
   ]
  },
  {
   "cell_type": "markdown",
   "id": "f212672b",
   "metadata": {},
   "source": [
    "#### LOOCV accuracy, we keep track of feature importance across folds."
   ]
  },
  {
   "cell_type": "code",
   "execution_count": null,
   "id": "801ee2e0",
   "metadata": {},
   "outputs": [],
   "source": []
  },
  {
   "cell_type": "code",
   "execution_count": null,
   "id": "2de483cd",
   "metadata": {},
   "outputs": [],
   "source": []
  },
  {
   "cell_type": "code",
   "execution_count": null,
   "id": "8c2b9869",
   "metadata": {},
   "outputs": [],
   "source": []
  },
  {
   "cell_type": "code",
   "execution_count": 37,
   "id": "f07af3c9",
   "metadata": {},
   "outputs": [],
   "source": [
    "temp = np.loadtxt('cv_fold_importance.csv', delimiter=',')"
   ]
  },
  {
   "cell_type": "code",
   "execution_count": null,
   "id": "65937dcd",
   "metadata": {},
   "outputs": [],
   "source": []
  },
  {
   "cell_type": "code",
   "execution_count": null,
   "id": "f5fa2691",
   "metadata": {},
   "outputs": [],
   "source": []
  },
  {
   "cell_type": "code",
   "execution_count": null,
   "id": "a4efb628",
   "metadata": {},
   "outputs": [],
   "source": []
  },
  {
   "cell_type": "markdown",
   "id": "f7bfadf0",
   "metadata": {},
   "source": [
    "## Permutation analysis\n",
    "#### Here we permute sets of features corresponding to a-priori defined groups (functional networks in the brain) "
   ]
  },
  {
   "cell_type": "code",
   "execution_count": null,
   "id": "d8a3f930",
   "metadata": {},
   "outputs": [],
   "source": [
    "cv = LeaveOneOut()\n",
    "scores = []\n",
    "netlist = ['Auditory','CingOperc','CingPar','Default','DorsalAtt','FrontoPar','None', 'RetroTemp','Salience','SMhand','SMmouth','VentralAtt','Visual','Subcort']   \n",
    "\n",
    "permutations = 50\n",
    "\n",
    "# Loop over the LOOCV splits indicies\n",
    "for train_ix, test_ix in cv.split(X_scale):\n",
    "    \n",
    "    # For each split, create the respective training and test set\n",
    "    X_train, X_test = X_scale[train_ix, :], X_scale[test_ix, :]\n",
    "    y_train, y_test = y[train_ix], y[test_ix]\n",
    "\n",
    "    # Train the model\n",
    "#     clf = svm.SVC(kernel='linear', C=1, random_state=1)\n",
    "    clf = RandomForestClassifier(n_estimators=1500)\n",
    "\n",
    "    clf.fit(X_train, y_train)\n",
    "        \n",
    "    for net in netlist:\n",
    "        \n",
    "        network_inds = get_flat_inds_for_net(net)\n",
    "  \n",
    "        temp_test_sub = np.copy(X_test)\n",
    "\n",
    "        for j in range(50):\n",
    "\n",
    "            # Permute the test subjects DMN connections individually \n",
    "            for i in range(len(network_inds)):\n",
    "                randsamp = random.randint(0,196)\n",
    "                temp_test_sub[0, network_inds[i]] = X_train[randsamp,network_inds[i]]\n",
    "                print(X_train.shape)\n",
    "\n",
    "            # Test the model using the permuted feature set\n",
    "            loo_score = clf.score(temp_test_sub, y_test)\n",
    "\n",
    "            # Keep track of the accuracy of the LOOCV with DMN permuted\n",
    "            scores.append(loo_score)     \n",
    "            \n",
    "# with open('results'.txt', 'w') as f:\n",
    "#     for item in scores:\n",
    "#         f.write(\"%s\\n\" % item)"
   ]
  },
  {
   "cell_type": "code",
   "execution_count": null,
   "id": "9eaaa389",
   "metadata": {},
   "outputs": [],
   "source": []
  }
 ],
 "metadata": {
  "kernelspec": {
   "display_name": "Python 3 (ipykernel)",
   "language": "python",
   "name": "python3"
  },
  "language_info": {
   "codemirror_mode": {
    "name": "ipython",
    "version": 3
   },
   "file_extension": ".py",
   "mimetype": "text/x-python",
   "name": "python",
   "nbconvert_exporter": "python",
   "pygments_lexer": "ipython3",
   "version": "3.7.3"
  }
 },
 "nbformat": 4,
 "nbformat_minor": 5
}
