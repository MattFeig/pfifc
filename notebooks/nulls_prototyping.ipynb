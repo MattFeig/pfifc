{
 "cells": [
  {
   "cell_type": "code",
   "execution_count": 46,
   "id": "97e99c85",
   "metadata": {},
   "outputs": [],
   "source": [
    "import pandas as pd\n",
    "import numpy as np\n",
    "import matplotlib.pyplot as plt\n",
    "import random, sys\n",
    "sys.path.insert(0, '../scripts')\n",
    "from fc_helpers import make_corrfig, linearize, get_flat_inds_for_net, triangularizeweights\n",
    "from permute_helpers import prep_data, run_randomforest_permutation_loocv\n",
    "from sklearn.model_selection import  LeaveOneOut\n",
    "from sklearn.ensemble import RandomForestClassifier\n",
    "\n"
   ]
  },
  {
   "cell_type": "code",
   "execution_count": null,
   "id": "19ecf1c1",
   "metadata": {},
   "outputs": [],
   "source": []
  },
  {
   "cell_type": "code",
   "execution_count": 2,
   "id": "28fbc3bc",
   "metadata": {},
   "outputs": [],
   "source": [
    "X_scale, y = prep_data()"
   ]
  },
  {
   "cell_type": "code",
   "execution_count": 4,
   "id": "d5e7a727",
   "metadata": {},
   "outputs": [],
   "source": [
    "netlist = ['Auditory','CingOperc','CingPar','Default','DorsalAtt','FrontoPar','None', 'RetroTemp','Salience', \n",
    "           'SMhand','SMmouth','VentralAtt','Visual','Subcort']   \n"
   ]
  },
  {
   "cell_type": "code",
   "execution_count": 31,
   "id": "7f280b09",
   "metadata": {},
   "outputs": [],
   "source": [
    "def create_null(n_sample, pop_size = 62128): return random.sample(range(0,pop_size), n_sample)"
   ]
  },
  {
   "cell_type": "code",
   "execution_count": 32,
   "id": "4d99d6ae",
   "metadata": {},
   "outputs": [
    {
     "data": {
      "text/plain": [
       "[36230, 17896]"
      ]
     },
     "execution_count": 32,
     "metadata": {},
     "output_type": "execute_result"
    }
   ],
   "source": [
    "create_null(2)"
   ]
  },
  {
   "cell_type": "code",
   "execution_count": 48,
   "id": "70d8b82c",
   "metadata": {},
   "outputs": [],
   "source": [
    "def run_randomforest_permutation_nulls_loocv(X_mat, y, n_nulls = 15, estimators = 500, permutations = 50):\n",
    "    \n",
    "\n",
    "    cv = LeaveOneOut()\n",
    "    scores = []\n",
    "    netlist = ['Auditory','CingOperc','CingPar','Default','DorsalAtt','FrontoPar','None', 'RetroTemp','Salience', \n",
    "               'SMhand','SMmouth','VentralAtt','Visual','Subcort']   \n",
    "    fold = 0\n",
    "\n",
    "    # Loop over the LOOCV splits indicies\n",
    "    for train_ix, test_ix in cv.split(X_mat):\n",
    "            \n",
    "        # For each split, create the respective training and test set\n",
    "        X_train, X_test = X_mat[train_ix, :], X_mat[test_ix, :]\n",
    "        y_train, y_test = y[train_ix], y[test_ix]\n",
    "\n",
    "        # Train the model\n",
    "        clf = RandomForestClassifier(n_estimators=estimators)\n",
    "\n",
    "        clf.fit(X_train, y_train)\n",
    "            \n",
    "        for net in netlist:\n",
    "            \n",
    "            for null in range(n_nulls):\n",
    "                \n",
    "                network_inds_len = len(get_flat_inds_for_net(net)\n",
    "                null_inds = create_null(network_inds_len)\n",
    "            \n",
    "                temp_test_sub = np.copy(X_test)\n",
    "\n",
    "                for j in range(permutations):\n",
    "\n",
    "                    # Permute the randomly selected connections individually \n",
    "                    for i in range(len(null_inds)):\n",
    "                        randsamp = random.randint(0,X_mat.shape[0]-2)\n",
    "                        temp_test_sub[0, null_inds[i]] = X_train[randsamp, null_inds[i]]\n",
    "\n",
    "                    # Test the model using the permuted feature set\n",
    "                    loo_score = clf.score(temp_test_sub, y_test)\n",
    "\n",
    "                    # Keep track of the accuracy of the LOOCV with DMN permuted\n",
    "                    scores.append(loo_score)     \n",
    "\n",
    "        if fold%50 == 0:\n",
    "            print(fold)\n",
    "        fold = fold +1\n",
    "\n",
    "    return scores        \n"
   ]
  },
  {
   "cell_type": "code",
   "execution_count": null,
   "id": "56bac7f2",
   "metadata": {},
   "outputs": [],
   "source": []
  }
 ],
 "metadata": {
  "kernelspec": {
   "display_name": "Python 3 (ipykernel)",
   "language": "python",
   "name": "python3"
  },
  "language_info": {
   "codemirror_mode": {
    "name": "ipython",
    "version": 3
   },
   "file_extension": ".py",
   "mimetype": "text/x-python",
   "name": "python",
   "nbconvert_exporter": "python",
   "pygments_lexer": "ipython3",
   "version": "3.7.3"
  }
 },
 "nbformat": 4,
 "nbformat_minor": 5
}
