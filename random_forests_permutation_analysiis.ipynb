{
 "cells": [
  {
   "cell_type": "code",
   "execution_count": 9,
   "id": "03c1732e",
   "metadata": {},
   "outputs": [],
   "source": [
    "import pandas as pd\n",
    "import numpy as np\n",
    "import matplotlib.pyplot as plt\n",
    "from sklearn.preprocessing import StandardScaler\n",
    "from sklearn.model_selection import cross_val_score, LeaveOneOut\n",
    "from sklearn.ensemble import RandomForestClassifier\n",
    "from sklearn.metrics import classification_report\n",
    "\n",
    "from lib import make_corrfig, linearize, get_flat_inds_for_net, triangularizeweights\n",
    "from data_loader import data_loader\n",
    "import warnings\n",
    "warnings.simplefilter('ignore')"
   ]
  },
  {
   "cell_type": "code",
   "execution_count": 2,
   "id": "1a012dee",
   "metadata": {},
   "outputs": [],
   "source": [
    "# Load Demographic data and subject lists\n",
    "demo = pd.read_csv('data/demo.csv', names=['VC', 'Age', 'Group'])\n",
    "\n",
    "demo_ts = demo.where(demo.Group=='TS').dropna().reset_index(drop=True)\n",
    "demo_hc = demo.where(demo.Group=='TFC').dropna().reset_index(drop=True)\n",
    "\n",
    "# custom data loader reads in connectivity data for each group seperately\n",
    "ts_con = data_loader(demo_ts)\n",
    "hc_con = data_loader(demo_hc)\n",
    "\n",
    "# Connectivity matricies are symettric and square. We need just the flattened upper or lower triangle, of the matrix\n",
    "# to create a new design matrix\n",
    "\n",
    "ts_con_flat = linearize(ts_con)\n",
    "hc_con_flat = linearize(hc_con)\n",
    "\n",
    "\n",
    "# create feature matrix\n",
    "X = np.vstack((hc_con_flat, ts_con_flat))\n",
    "\n",
    "# create label vector: 1 for HC, -1 for TS\n",
    "y = np.concatenate((np.repeat(1,99), np.repeat(-1,99)))\n",
    "\n",
    "scaler = StandardScaler()\n",
    "X_scale = scaler.fit_transform(X)"
   ]
  },
  {
   "cell_type": "markdown",
   "id": "4ed2eb56",
   "metadata": {},
   "source": [
    "### Random Forests prototyping"
   ]
  },
  {
   "cell_type": "code",
   "execution_count": 11,
   "id": "99132a44",
   "metadata": {},
   "outputs": [
    {
     "name": "stdout",
     "output_type": "stream",
     "text": [
      "Training Accuracy: 1.0\n",
      "              precision    recall  f1-score   support\n",
      "\n",
      "          -1       1.00      1.00      1.00        99\n",
      "           1       1.00      1.00      1.00        99\n",
      "\n",
      "    accuracy                           1.00       198\n",
      "   macro avg       1.00      1.00      1.00       198\n",
      "weighted avg       1.00      1.00      1.00       198\n",
      "\n"
     ]
    }
   ],
   "source": [
    "clf = RandomForestClassifier(n_estimators=500)\n",
    "clf.fit(X_scale,y)\n",
    "y_pred = clf.predict(X_scale)\n",
    "scores = (y_pred == y)\n",
    "print(f'Training Accuracy: {np.mean(scores)}')\n",
    "print(classification_report(y, y_pred))"
   ]
  },
  {
   "cell_type": "markdown",
   "id": "f212672b",
   "metadata": {},
   "source": [
    "#### LOOCV accuracy, we keep track of feature importance across folds."
   ]
  },
  {
   "cell_type": "code",
   "execution_count": null,
   "id": "a47fa225",
   "metadata": {},
   "outputs": [],
   "source": [
    "cv = LeaveOneOut()\n",
    "\n",
    "scores = []\n",
    "cv_fold_importance = []\n",
    "fold = 0\n",
    "\n",
    "for train_ix, test_ix in cv.split(X_scale):\n",
    "    \n",
    "    X_train, X_test = X_scale[train_ix, :], X_scale[test_ix, :]\n",
    "    y_train, y_test = y[train_ix], y[test_ix]\n",
    "\n",
    "    clf = RandomForestClassifier(n_estimators=1500)\n",
    "    clf.fit(X_train, y_train)\n",
    "    \n",
    "    cv_fold_importance.append(clf.feature_importances_)\n",
    "    scores.append(clf.score(X_test, y_test))\n",
    "\n",
    "    if fold%50 == 0:\n",
    "        print(fold)\n",
    "    fold = fold +1"
   ]
  },
  {
   "cell_type": "markdown",
   "id": "f7bfadf0",
   "metadata": {},
   "source": [
    "## Permutation analysis\n",
    "#### Here we permute sets of features corresponding to a-priori defined groups (functional networks in the brain) "
   ]
  },
  {
   "cell_type": "code",
   "execution_count": null,
   "id": "d8a3f930",
   "metadata": {},
   "outputs": [],
   "source": [
    "cv = LeaveOneOut()\n",
    "scores = []\n",
    "netlist = ['Auditory','CingOperc','CingPar','Default','DorsalAtt','FrontoPar','None', 'RetroTemp','Salience','SMhand','SMmouth','VentralAtt','Visual','Subcort']   \n",
    "\n",
    "# Loop over the LOOCV splits indicies\n",
    "for train_ix, test_ix in cv.split(X_scale):\n",
    "    \n",
    "    # For each split, create the respective training and test set\n",
    "    X_train, X_test = X_scale[train_ix, :], X_scale[test_ix, :]\n",
    "    y_train, y_test = y[train_ix], y[test_ix]\n",
    "\n",
    "    # Train the model\n",
    "#     clf = svm.SVC(kernel='linear', C=1, random_state=1)\n",
    "    clf = RandomForestClassifier(n_estimators=1500)\n",
    "\n",
    "    clf.fit(X_train, y_train)\n",
    "        \n",
    "    for net in netlist[:3]:\n",
    "        \n",
    "        network_inds = get_flat_inds_for_net(net)\n",
    "  \n",
    "        temp_test_sub = np.copy(X_test)\n",
    "\n",
    "        for j in range(5):\n",
    "\n",
    "            # Permute the test subjects DMN connections individually \n",
    "            for i in range(len(network_inds)):\n",
    "                randsamp = random.randint(0,98)\n",
    "                temp_test_sub[0, network_inds[i]] = X_train[randsamp,network_inds[i]]\n",
    "\n",
    "            # Test the model using the permuted feature set\n",
    "            loo_score = clf.score(temp_test_sub, y_test)\n",
    "\n",
    "            # Keep track of the accuracy of the LOOCV with DMN permuted\n",
    "            scores.append(loo_score)     \n",
    "            \n",
    "# with open('results'.txt', 'w') as f:\n",
    "#     for item in scores:\n",
    "#         f.write(\"%s\\n\" % item)"
   ]
  }
 ],
 "metadata": {
  "kernelspec": {
   "display_name": "Python 3 (ipykernel)",
   "language": "python",
   "name": "python3"
  },
  "language_info": {
   "codemirror_mode": {
    "name": "ipython",
    "version": 3
   },
   "file_extension": ".py",
   "mimetype": "text/x-python",
   "name": "python",
   "nbconvert_exporter": "python",
   "pygments_lexer": "ipython3",
   "version": "3.7.3"
  }
 },
 "nbformat": 4,
 "nbformat_minor": 5
}
